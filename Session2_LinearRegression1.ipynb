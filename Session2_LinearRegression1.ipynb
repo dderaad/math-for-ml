{
 "cells": [
  {
   "cell_type": "markdown",
   "metadata": {},
   "source": [
    "# Linear Algebra"
   ]
  },
  {
   "cell_type": "markdown",
   "metadata": {},
   "source": [
    "## Vectors\n",
    "Numbers can be thought of as 1 dimensional representations of where we are on the number line. Vectors are an extension of this intuition about numbers to multiple dimensions. With one number, I can represent how far away I am from an object (I am 1 meter North of the South wall). But I can specify more about my location by using more reference points (I am 1 meter North of the south wall and 1 meter East of the West wall). Instead of specifying where I am on a line, I am now specifying in terms of the plane.\n",
    "![](https://upload.wikimedia.org/wikipedia/commons/thumb/9/9a/Basis_graph_%28no_label%29.svg/400px-Basis_graph_%28no_label%29.svg.png)"
   ]
  },
  {
   "cell_type": "code",
   "execution_count": 1,
   "metadata": {},
   "outputs": [],
   "source": [
    "import numpy as np\n",
    "import matplotlib.pyplot as plt\n",
    "import pandas as pd"
   ]
  },
  {
   "cell_type": "code",
   "execution_count": 2,
   "metadata": {},
   "outputs": [
    {
     "data": {
      "image/png": "[encoded data removed]",
      "text/plain": [
       "<Figure size 432x288 with 1 Axes>"
      ]
     },
     "metadata": {
      "needs_background": "light"
     },
     "output_type": "display_data"
    }
   ],
   "source": [
    "def plot_vectors(vectors, colors, axis):\n",
    "    for vector, color in zip(vectors, colors):\n",
    "        axis.annotate(\"\", xy=vector, xytext=(0, 0), arrowprops=dict(arrowstyle=\"-|>\", color=color))\n",
    "\n",
    "blue = np.array([1, 0])\n",
    "orange = np.array([0, 1])\n",
    "green = np.array([-2, 1])\n",
    "\n",
    "fig, ax = plt.subplots()\n",
    "plot_vectors([blue, orange, green], [\"blue\", \"orange\", \"green\"], ax)\n",
    "plt.xlim([-2, 2])\n",
    "ax.set_aspect('equal')"
   ]
  },
  {
   "cell_type": "markdown",
   "metadata": {},
   "source": [
    "Vectors can be added, multiplied and subtracted. They can also be added to, multiplied with, subtracted from, and divided by normal numbers. \n",
    "\n",
    "Addition: $$\\begin{bmatrix} 0 & 1 \\end{bmatrix} + \\begin{bmatrix} 2 & 0 \\end{bmatrix} = \\begin{bmatrix} 2 & 1 \\end{bmatrix} \\qquad \\begin{bmatrix} 0 & 1 \\end{bmatrix} + 2 = \\begin{bmatrix} 2 & 3 \\end{bmatrix}$$\n",
    "\n",
    "Multplication: $$\\begin{bmatrix} 0 & 1 \\end{bmatrix} \\cdot \\begin{bmatrix} 2 \\\\ 1 \\end{bmatrix} = 2\\cdot0 + 1\\cdot1 = 1 \\qquad \\begin{bmatrix} 0 & 1 \\end{bmatrix} \\cdot 2 = \\begin{bmatrix} 0 & 2 \\end{bmatrix}$$"
   ]
  },
  {
   "cell_type": "code",
   "execution_count": 3,
   "metadata": {},
   "outputs": [
    {
     "name": "stdout",
     "output_type": "stream",
     "text": [
      "[1 1]\n",
      "[4 2]\n",
      "[0.2 0. ]\n"
     ]
    }
   ],
   "source": [
    "print(blue + orange)\n",
    "print(orange - green + 2)\n",
    "print(blue / 5)"
   ]
  },
  {
   "cell_type": "markdown",
   "metadata": {},
   "source": [
    "## Matrices\n",
    "Vectors can also be thought of as 1D. If we want to specify the locations of one person in a room, we can give a vector like $[0 \\text{ } 1]$. When we want to specify where every person is, we can use a matrix \n",
    "$$\n",
    "\\left.\n",
    "\\begin{bmatrix} \n",
    "0 & 1 \\\\ 0 & 2\\\\ \\vdots & \\vdots \\\\ 1 & 5 \n",
    "\\end{bmatrix}\n",
    "\\right\\}n\n",
    "$$\n",
    "This matrix is called $n \\times 2$ because it has $n$ rows and 2 columns.\n",
    "\n",
    "### Matrix Multiplication\n",
    "\n",
    "Matrix multiplication is different than vector multiplication. For starters, the order matters.\n",
    "This means $\\mathbf{A}\\mathbf{B}\\neq\\mathbf{B}\\mathbf{A}$. The only legal matrix multiplications occur when the 2 matrices $\\mathbf{A}$ and $\\mathbf{B}$ are of particular shape. If $\\mathbf{A}$ is $1\\times2$ then $\\mathbf{B}$ must be $2\\times k$.\n",
    "\n",
    "Here's an example where $\\mathbf{A}$ is $2\\times2$ and $\\mathbf{B}$ is $2\\times 3$:\n",
    "$$\n",
    "\\begin{bmatrix} \n",
    "0 & 1 \\\\\n",
    "1 & 0\n",
    "\\end{bmatrix}\n",
    "\\begin{bmatrix} \n",
    "1 & 7 & 4\\\\\n",
    "2 & 9 & 4\\\\\n",
    "\\end{bmatrix}\n",
    "=\n",
    "\\begin{bmatrix} \n",
    "2 & 9 & 4\\\\\n",
    "1 & 7 & 4\\\\\n",
    "\\end{bmatrix}\n",
    "$$"
   ]
  },
  {
   "cell_type": "code",
   "execution_count": 4,
   "metadata": {},
   "outputs": [
    {
     "data": {
      "text/plain": [
       "array([[2, 9, 4],\n",
       "       [1, 7, 4]])"
      ]
     },
     "execution_count": 4,
     "metadata": {},
     "output_type": "execute_result"
    }
   ],
   "source": [
    "np.array([[0, 1], [1, 0]]) @ np.array([[1, 7, 4], [2, 9, 4]])"
   ]
  },
  {
   "cell_type": "markdown",
   "metadata": {},
   "source": [
    "### Inverses\n",
    "There is a very special matrix called the identity. It is defined as $$\\mathbf{I^{2 \\times 2}} = \\begin{bmatrix}1 & 0 \\\\ 0 & 1 \\end{bmatrix}$$ or in general \n",
    "$$\\mathbf{I} = \n",
    "\\begin{bmatrix}\n",
    "1 & 0 & \\cdots & 0 \\\\\n",
    "0 & 1 & \\cdots & 0 \\\\\n",
    "\\vdots &\\vdots & \\ddots & \\vdots\\\\\n",
    "0 & 0 & \\cdots & 1\n",
    "\\end{bmatrix}$$\n",
    "Their special property is that for any matrix $\\mathbf{A}$, $\\mathbf{I}\\mathbf{A} = \\mathbf{A}\\mathbf{I} = \\mathbf{A}$. Basically, it acts like 1. When we look to find an inverse in the normal numbers, we ask what number when multiplied by $a$ gives me 1? That number is of course $a^{-1} = \\frac{1}{a}$. Our problem here of course is that we cannot divide matrices. However, we can still attempt to solve the system $\\mathbf{A}^{-1}\\mathbf{A} = \\mathbf{I}$. We won't go into the details of computing this matrix, but just know that the matrix sometimes exists and sometimes doesn't, depending on the nature of how $\\mathbf{A}$ multplies vectors. Let's do some examples."
   ]
  },
  {
   "cell_type": "code",
   "execution_count": 5,
   "metadata": {},
   "outputs": [
    {
     "data": {
      "text/plain": [
       "array([[ 0.11111111,  0.11111111],\n",
       "       [ 0.25925926, -0.07407407]])"
      ]
     },
     "execution_count": 5,
     "metadata": {},
     "output_type": "execute_result"
    }
   ],
   "source": [
    "A = np.array([[2, 3], [7, -3]])\n",
    "A_inv = np.linalg.inv(A)\n",
    "A_inv"
   ]
  },
  {
   "cell_type": "code",
   "execution_count": 6,
   "metadata": {},
   "outputs": [
    {
     "data": {
      "text/plain": [
       "array([[1., 0.],\n",
       "       [0., 1.]])"
      ]
     },
     "execution_count": 6,
     "metadata": {},
     "output_type": "execute_result"
    }
   ],
   "source": [
    "np.round(A @ A_inv)"
   ]
  },
  {
   "cell_type": "markdown",
   "metadata": {},
   "source": [
    "If we can write an equation as $\\mathbf{A}\\vec{x} = \\vec{b}$, we can solve for $\\vec{x}$ by doing the following:\n",
    "$$\n",
    "\\mathbf{A}\\vec{x} = \\vec{b} \\\\\n",
    "\\mathbf{A}^{-1}\\mathbf{A}\\vec{x} = \\mathbf{A}^{-1}\\vec{b} \\\\\n",
    "\\mathbf{I}\\vec{x} = \\mathbf{A}^{-1}\\vec{b} \\\\\n",
    "\\vec{x} = \\mathbf{A}^{-1}\\vec{b}\n",
    "$$"
   ]
  },
  {
   "cell_type": "markdown",
   "metadata": {},
   "source": [
    "For example, consider the system $$ \\begin{cases} 2x + 3y = 8 \\\\ 7x + -3y = 1 \\end{cases}$$\n",
    "We can use $\\mathbf{A}$ as defined previously and define $\\vec{b} = \\begin{bmatrix} 8 \\\\ 1\\end{bmatrix}$."
   ]
  },
  {
   "cell_type": "code",
   "execution_count": 7,
   "metadata": {},
   "outputs": [
    {
     "name": "stdout",
     "output_type": "stream",
     "text": [
      "x = 1\n",
      "y = 2\n"
     ]
    },
    {
     "data": {
      "text/plain": [
       "array([[1.],\n",
       "       [2.]])"
      ]
     },
     "execution_count": 7,
     "metadata": {},
     "output_type": "execute_result"
    }
   ],
   "source": [
    "b = np.array([[8], [1]])\n",
    "print('x = {0[0]:.0f}\\ny = {0[1]:.0f}'.format(np.ravel(A_inv @ b)))\n",
    "A_inv @ b"
   ]
  },
  {
   "attachments": {},
   "cell_type": "markdown",
   "metadata": {},
   "source": [
    "## Tensors\n",
    "Like the transition from numbers to vectors, or vectors to matrices, the transition from matrix to tensor is simply an increase in dimensionality. If we imagine a vector to be a line of numbers, a matrix to be a rectangle of numbers, then we can imagine the tensor as a cube or a rectangular prism, where each cube composing it is a number. My favorite way of thinking about it is this: a pixel is a number representing its color, an image is a 2 dimensional grid of such numbers (a matrix), and a video is the image through time:\n",
    "\n",
    "![](https://encrypted-tbn0.gstatic.com/images?q=tbn:ANd9GcQId0fHPd2lK3_tdBTnrjpbevPCFFQpszxoVhuolmK9nqSXgAMW)"
   ]
  },
  {
   "cell_type": "markdown",
   "metadata": {},
   "source": [
    "## Systems of Equations and Linear Regression\n",
    "Matrix multiplication gives us a convenient way to write a system of linear equations. Consider, for example, the system \n",
    "$$ \\begin{cases} mx_1 + b = y_1 \\\\ mx_2 + b = y_2 \\end{cases}$$\n",
    "It's simple to show that this can be written in the matrix notation: \n",
    "$$\\mathbf{X}\\vec{\\beta} = \\vec{y}$$ \n",
    "where \n",
    "$$\\mathbf{X} = \\begin{bmatrix}1 & x_1 \\\\ 1 & x_2 \\end{bmatrix}; \\quad \\vec{\\beta} = \\begin{bmatrix} b \\\\ m\\end{bmatrix}; \\quad \\vec{y} = \\begin{bmatrix}y_1 \\\\ y_2 \\end{bmatrix}$$\n",
    "Since the unknown vector is $\\vec{\\beta}$, we can solve for it simply using the inverse: $$\\vec{\\beta} = \\mathbf{X}^{-1}\\vec{y}$$\n",
    "Our only problem here is that usually linear regression systems have many more rows (data points) and potentially more regressors. We consider $n$ rows of data and $m$ regressors:\n",
    "$$ \\begin{cases} \n",
    "\\beta_0 + \\beta_1x_{1,1} + \\beta_2x_{1,2} + \\cdots + \\beta_mx_{1,m}  = y_1 \\\\\n",
    "\\beta_0 + \\beta_1x_{2,1} + \\beta_2x_{2,2} + \\cdots + \\beta_mx_{2,m}  = y_2 \\\\\n",
    "\\vdots \\\\\n",
    "\\beta_0 + \\beta_1x_{n,1} + \\beta_2x_{n,2} + \\cdots + \\beta_mx_{n,m}  = y_n\n",
    "\\end{cases}$$\n",
    "Conveniently, we can still write this as \n",
    "$$\\mathbf{X}\\vec{\\beta} = \\vec{y}$$\n",
    "where \n",
    "$$\\mathbf{X} = \n",
    "\\begin{bmatrix}\n",
    "1 & x_{1,1} & \\cdots & x_{1,m}\\\\\n",
    "1 & x_{2,1} & \\cdots & x_{2,m}\\\\\n",
    "\\vdots & \\vdots & & \\vdots \\\\\n",
    "1 & x_{n,1} & \\cdots & x_{n,m}\n",
    "\\end{bmatrix};\n",
    "\\quad\n",
    "\\vec{\\beta} = \n",
    "\\begin{bmatrix} \n",
    "\\beta_0 \\\\\n",
    "\\beta_1 \\\\\n",
    "\\vdots \\\\ \n",
    "\\beta_m\n",
    "\\end{bmatrix}; \n",
    "\\quad \n",
    "\\vec{y} = \n",
    "\\begin{bmatrix}\n",
    "y_1 \\\\\n",
    "y_2 \\\\\n",
    "\\vdots \\\\\n",
    "y_n\n",
    "\\end{bmatrix}$$"
   ]
  },
  {
   "cell_type": "code",
   "execution_count": 8,
   "metadata": {},
   "outputs": [
    {
     "data": {
      "text/html": [
       "<div>\n",
       "<style scoped>\n",
       "    .dataframe tbody tr th:only-of-type {\n",
       "        vertical-align: middle;\n",
       "    }\n",
       "\n",
       "    .dataframe tbody tr th {\n",
       "        vertical-align: top;\n",
       "    }\n",
       "\n",
       "    .dataframe thead th {\n",
       "        text-align: right;\n",
       "    }\n",
       "</style>\n",
       "<table border=\"1\" class=\"dataframe\">\n",
       "  <thead>\n",
       "    <tr style=\"text-align: right;\">\n",
       "      <th></th>\n",
       "      <th>name</th>\n",
       "      <th>club</th>\n",
       "      <th>age</th>\n",
       "      <th>position</th>\n",
       "      <th>position_cat</th>\n",
       "      <th>market_value</th>\n",
       "      <th>page_views</th>\n",
       "      <th>fpl_value</th>\n",
       "      <th>fpl_sel</th>\n",
       "      <th>fpl_points</th>\n",
       "      <th>region</th>\n",
       "      <th>nationality</th>\n",
       "      <th>new_foreign</th>\n",
       "      <th>age_cat</th>\n",
       "      <th>club_id</th>\n",
       "      <th>big_club</th>\n",
       "      <th>new_signing</th>\n",
       "    </tr>\n",
       "  </thead>\n",
       "  <tbody>\n",
       "    <tr>\n",
       "      <th>0</th>\n",
       "      <td>Alexis Sanchez</td>\n",
       "      <td>Arsenal</td>\n",
       "      <td>28</td>\n",
       "      <td>LW</td>\n",
       "      <td>1</td>\n",
       "      <td>65.0</td>\n",
       "      <td>4329</td>\n",
       "      <td>12.0</td>\n",
       "      <td>0.171</td>\n",
       "      <td>264</td>\n",
       "      <td>3.0</td>\n",
       "      <td>Chile</td>\n",
       "      <td>0</td>\n",
       "      <td>4</td>\n",
       "      <td>1</td>\n",
       "      <td>1</td>\n",
       "      <td>0</td>\n",
       "    </tr>\n",
       "    <tr>\n",
       "      <th>1</th>\n",
       "      <td>Mesut Ozil</td>\n",
       "      <td>Arsenal</td>\n",
       "      <td>28</td>\n",
       "      <td>AM</td>\n",
       "      <td>1</td>\n",
       "      <td>50.0</td>\n",
       "      <td>4395</td>\n",
       "      <td>9.5</td>\n",
       "      <td>0.056</td>\n",
       "      <td>167</td>\n",
       "      <td>2.0</td>\n",
       "      <td>Germany</td>\n",
       "      <td>0</td>\n",
       "      <td>4</td>\n",
       "      <td>1</td>\n",
       "      <td>1</td>\n",
       "      <td>0</td>\n",
       "    </tr>\n",
       "    <tr>\n",
       "      <th>2</th>\n",
       "      <td>Petr Cech</td>\n",
       "      <td>Arsenal</td>\n",
       "      <td>35</td>\n",
       "      <td>GK</td>\n",
       "      <td>4</td>\n",
       "      <td>7.0</td>\n",
       "      <td>1529</td>\n",
       "      <td>5.5</td>\n",
       "      <td>0.059</td>\n",
       "      <td>134</td>\n",
       "      <td>2.0</td>\n",
       "      <td>Czech Republic</td>\n",
       "      <td>0</td>\n",
       "      <td>6</td>\n",
       "      <td>1</td>\n",
       "      <td>1</td>\n",
       "      <td>0</td>\n",
       "    </tr>\n",
       "    <tr>\n",
       "      <th>3</th>\n",
       "      <td>Theo Walcott</td>\n",
       "      <td>Arsenal</td>\n",
       "      <td>28</td>\n",
       "      <td>RW</td>\n",
       "      <td>1</td>\n",
       "      <td>20.0</td>\n",
       "      <td>2393</td>\n",
       "      <td>7.5</td>\n",
       "      <td>0.015</td>\n",
       "      <td>122</td>\n",
       "      <td>1.0</td>\n",
       "      <td>England</td>\n",
       "      <td>0</td>\n",
       "      <td>4</td>\n",
       "      <td>1</td>\n",
       "      <td>1</td>\n",
       "      <td>0</td>\n",
       "    </tr>\n",
       "    <tr>\n",
       "      <th>4</th>\n",
       "      <td>Laurent Koscielny</td>\n",
       "      <td>Arsenal</td>\n",
       "      <td>31</td>\n",
       "      <td>CB</td>\n",
       "      <td>3</td>\n",
       "      <td>22.0</td>\n",
       "      <td>912</td>\n",
       "      <td>6.0</td>\n",
       "      <td>0.007</td>\n",
       "      <td>121</td>\n",
       "      <td>2.0</td>\n",
       "      <td>France</td>\n",
       "      <td>0</td>\n",
       "      <td>4</td>\n",
       "      <td>1</td>\n",
       "      <td>1</td>\n",
       "      <td>0</td>\n",
       "    </tr>\n",
       "  </tbody>\n",
       "</table>\n",
       "</div>"
      ],
      "text/plain": [
       "                name     club  age position  position_cat  market_value  \\\n",
       "0     Alexis Sanchez  Arsenal   28       LW             1          65.0   \n",
       "1         Mesut Ozil  Arsenal   28       AM             1          50.0   \n",
       "2          Petr Cech  Arsenal   35       GK             4           7.0   \n",
       "3       Theo Walcott  Arsenal   28       RW             1          20.0   \n",
       "4  Laurent Koscielny  Arsenal   31       CB             3          22.0   \n",
       "\n",
       "   page_views  fpl_value  fpl_sel  fpl_points  region     nationality  \\\n",
       "0        4329       12.0    0.171         264     3.0           Chile   \n",
       "1        4395        9.5    0.056         167     2.0         Germany   \n",
       "2        1529        5.5    0.059         134     2.0  Czech Republic   \n",
       "3        2393        7.5    0.015         122     1.0         England   \n",
       "4         912        6.0    0.007         121     2.0          France   \n",
       "\n",
       "   new_foreign  age_cat  club_id  big_club  new_signing  \n",
       "0            0        4        1         1            0  \n",
       "1            0        4        1         1            0  \n",
       "2            0        6        1         1            0  \n",
       "3            0        4        1         1            0  \n",
       "4            0        4        1         1            0  "
      ]
     },
     "execution_count": 8,
     "metadata": {},
     "output_type": "execute_result"
    }
   ],
   "source": [
    "df_soccer = pd.read_csv(\"epldata_final.csv\", converters={'fpl_sel':lambda x:float(x.strip('%'))/100})\n",
    "df_soccer.head()"
   ]
  },
  {
   "cell_type": "code",
   "execution_count": 9,
   "metadata": {},
   "outputs": [
    {
     "data": {
      "text/html": [
       "<div>\n",
       "<style scoped>\n",
       "    .dataframe tbody tr th:only-of-type {\n",
       "        vertical-align: middle;\n",
       "    }\n",
       "\n",
       "    .dataframe tbody tr th {\n",
       "        vertical-align: top;\n",
       "    }\n",
       "\n",
       "    .dataframe thead th {\n",
       "        text-align: right;\n",
       "    }\n",
       "</style>\n",
       "<table border=\"1\" class=\"dataframe\">\n",
       "  <thead>\n",
       "    <tr style=\"text-align: right;\">\n",
       "      <th></th>\n",
       "      <th>intercept</th>\n",
       "      <th>age</th>\n",
       "      <th>position_cat</th>\n",
       "      <th>page_views</th>\n",
       "      <th>fpl_value</th>\n",
       "      <th>fpl_sel</th>\n",
       "      <th>fpl_points</th>\n",
       "      <th>region</th>\n",
       "      <th>new_foreign</th>\n",
       "      <th>age_cat</th>\n",
       "      <th>club_id</th>\n",
       "      <th>big_club</th>\n",
       "      <th>new_signing</th>\n",
       "    </tr>\n",
       "  </thead>\n",
       "  <tbody>\n",
       "    <tr>\n",
       "      <th>0</th>\n",
       "      <td>1</td>\n",
       "      <td>28</td>\n",
       "      <td>1</td>\n",
       "      <td>4329</td>\n",
       "      <td>12.0</td>\n",
       "      <td>0.171</td>\n",
       "      <td>264</td>\n",
       "      <td>3.0</td>\n",
       "      <td>0</td>\n",
       "      <td>4</td>\n",
       "      <td>1</td>\n",
       "      <td>1</td>\n",
       "      <td>0</td>\n",
       "    </tr>\n",
       "    <tr>\n",
       "      <th>1</th>\n",
       "      <td>1</td>\n",
       "      <td>28</td>\n",
       "      <td>1</td>\n",
       "      <td>4395</td>\n",
       "      <td>9.5</td>\n",
       "      <td>0.056</td>\n",
       "      <td>167</td>\n",
       "      <td>2.0</td>\n",
       "      <td>0</td>\n",
       "      <td>4</td>\n",
       "      <td>1</td>\n",
       "      <td>1</td>\n",
       "      <td>0</td>\n",
       "    </tr>\n",
       "    <tr>\n",
       "      <th>2</th>\n",
       "      <td>1</td>\n",
       "      <td>35</td>\n",
       "      <td>4</td>\n",
       "      <td>1529</td>\n",
       "      <td>5.5</td>\n",
       "      <td>0.059</td>\n",
       "      <td>134</td>\n",
       "      <td>2.0</td>\n",
       "      <td>0</td>\n",
       "      <td>6</td>\n",
       "      <td>1</td>\n",
       "      <td>1</td>\n",
       "      <td>0</td>\n",
       "    </tr>\n",
       "    <tr>\n",
       "      <th>3</th>\n",
       "      <td>1</td>\n",
       "      <td>28</td>\n",
       "      <td>1</td>\n",
       "      <td>2393</td>\n",
       "      <td>7.5</td>\n",
       "      <td>0.015</td>\n",
       "      <td>122</td>\n",
       "      <td>1.0</td>\n",
       "      <td>0</td>\n",
       "      <td>4</td>\n",
       "      <td>1</td>\n",
       "      <td>1</td>\n",
       "      <td>0</td>\n",
       "    </tr>\n",
       "    <tr>\n",
       "      <th>4</th>\n",
       "      <td>1</td>\n",
       "      <td>31</td>\n",
       "      <td>3</td>\n",
       "      <td>912</td>\n",
       "      <td>6.0</td>\n",
       "      <td>0.007</td>\n",
       "      <td>121</td>\n",
       "      <td>2.0</td>\n",
       "      <td>0</td>\n",
       "      <td>4</td>\n",
       "      <td>1</td>\n",
       "      <td>1</td>\n",
       "      <td>0</td>\n",
       "    </tr>\n",
       "  </tbody>\n",
       "</table>\n",
       "</div>"
      ],
      "text/plain": [
       "   intercept  age  position_cat  page_views  fpl_value  fpl_sel  fpl_points  \\\n",
       "0          1   28             1        4329       12.0    0.171         264   \n",
       "1          1   28             1        4395        9.5    0.056         167   \n",
       "2          1   35             4        1529        5.5    0.059         134   \n",
       "3          1   28             1        2393        7.5    0.015         122   \n",
       "4          1   31             3         912        6.0    0.007         121   \n",
       "\n",
       "   region  new_foreign  age_cat  club_id  big_club  new_signing  \n",
       "0     3.0            0        4        1         1            0  \n",
       "1     2.0            0        4        1         1            0  \n",
       "2     2.0            0        6        1         1            0  \n",
       "3     1.0            0        4        1         1            0  \n",
       "4     2.0            0        4        1         1            0  "
      ]
     },
     "execution_count": 9,
     "metadata": {},
     "output_type": "execute_result"
    }
   ],
   "source": [
    "y = df_soccer[\"market_value\"]\n",
    "x = df_soccer[[\"age\", \n",
    "               \"position_cat\", \n",
    "               \"page_views\", \n",
    "               \"fpl_value\", \n",
    "               \"fpl_sel\", \n",
    "               \"fpl_points\", \n",
    "               \"region\", \n",
    "               \"new_foreign\", \n",
    "               \"age_cat\",\n",
    "               \"club_id\",\n",
    "               \"big_club\",\n",
    "               \"new_signing\"\n",
    "              ]]\n",
    "x.insert(0, \"intercept\", 1)\n",
    "x.head()"
   ]
  },
  {
   "cell_type": "code",
   "execution_count": 10,
   "metadata": {},
   "outputs": [
    {
     "name": "stdout",
     "output_type": "stream",
     "text": [
      "X: [[ 1. 28.  1. ...  1.  1.  0.]\n",
      " [ 1. 28.  1. ...  1.  1.  0.]\n",
      " [ 1. 35.  4. ...  1.  1.  0.]\n",
      " ...\n",
      " [ 1. 23.  3. ... 20.  0.  0.]\n",
      " [ 1. 21.  1. ... 20.  0.  1.]\n",
      " [ 1. 27.  1. ... 20.  0.  0.]] \n",
      "y: [65.  50.   7.  ...  4.5  1.  10. ]\n"
     ]
    }
   ],
   "source": [
    "X = x.to_numpy()\n",
    "y_vec = y.to_numpy()\n",
    "np.set_printoptions(threshold=10)\n",
    "print(\"X:\", X, \"\\ny:\", y_vec)"
   ]
  },
  {
   "cell_type": "code",
   "execution_count": 11,
   "metadata": {},
   "outputs": [
    {
     "data": {
      "text/plain": [
       "array([3.58065857, 0.00972978])"
      ]
     },
     "execution_count": 11,
     "metadata": {},
     "output_type": "execute_result"
    }
   ],
   "source": [
    "betas = np.linalg.lstsq(X[:, [0, 3]], y_vec, rcond=None) # intercept, page_views\n",
    "betas[0]"
   ]
  },
  {
   "cell_type": "code",
   "execution_count": 12,
   "metadata": {},
   "outputs": [
    {
     "data": {
      "text/plain": [
       "[<matplotlib.lines.Line2D at 0x205619ff9b0>]"
      ]
     },
     "execution_count": 12,
     "metadata": {},
     "output_type": "execute_result"
    },
    {
     "data": {
      "image/png": "[encoded data removed]",
      "text/plain": [
       "<Figure size 432x288 with 1 Axes>"
      ]
     },
     "metadata": {
      "needs_background": "light"
     },
     "output_type": "display_data"
    }
   ],
   "source": [
    "plt.scatter(X[:, 3], y_vec)\n",
    "plt.plot(X[:, 3], betas[0][0] + betas[0][1]*X[:, 3], color=\"orange\")"
   ]
  },
  {
   "cell_type": "code",
   "execution_count": 13,
   "metadata": {},
   "outputs": [
    {
     "data": {
      "text/plain": [
       "array([-1.14028418e+01, -2.15231856e-01,  4.03036928e-03,  4.42546469e+00,\n",
       "        3.07053017e+01])"
      ]
     },
     "execution_count": 13,
     "metadata": {},
     "output_type": "execute_result"
    }
   ],
   "source": [
    "betas = np.linalg.lstsq(X[:, [0, 1, 3, 4, 5]], y_vec, rcond=None) # intercept, age, page_views, fpl_value, fpl_sel, fpl_points\n",
    "betas[0]"
   ]
  },
  {
   "cell_type": "markdown",
   "metadata": {},
   "source": [
    "## Natural Language Processing: Encoding Language as Vectors\n",
    "NLP-focused machine learning is a huge area of both study and practice; sentiment analysis, topic modelling, document classification are among the tasks that we expect machine learning will perform well at. But how does a computer come to understand what a word is?\n",
    "\n",
    "<img src=\"https://upload.wikimedia.org/wikipedia/commons/thumb/4/46/Colored_neural_network.svg/1200px-Colored_neural_network.svg.png\" alt=\"drawing\" width=\"350\"/>\n",
    "\n",
    "Looking at the structure of a standard neural network, we need to pass in a vector and recieve a vector as output. So how do we represent characters, words, and texts in this manner? We begin by describing a space where each word of a text is represented in the coordinate system. We also understand that where a word appears in a corpus is related to its meaning.\n",
    "\n",
    "![](https://cdn-images-1.medium.com/max/1600/1*ULfyiWPKgWceCqyZeDTl0g.png)\n",
    "\n",
    "One the first approaches, and not a bad one, is a binary one-hot encoding of each of the unique words in the corpus. This gives a distinct way to write each of the words in the corpus as a vector.\n",
    "\n",
    "Bag of words approaches just look at the frequencies of words and are usually used for topic modelling. However, it can be extended to include limited context in $n$-gram models, by looking instead at frequency of $n$-length phrases.\n",
    "\n",
    "However, these kinds of encoding ignores meanings of words. Thus, we consider the co-occurence of a word with related words to be important to the meaning of that word. For these dense representations models in the Word2vec family are used to reduce the dimenstionality of these datasets. These approaches make similar words have representations that are similar in the vector space, that is, the vectors are close together."
   ]
  },
  {
   "cell_type": "code",
   "execution_count": null,
   "metadata": {},
   "outputs": [],
   "source": []
  }
 ],
 "metadata": {
  "kernelspec": {
   "display_name": "Python 3",
   "language": "python",
   "name": "python3"
  },
  "language_info": {
   "codemirror_mode": {
    "name": "ipython",
    "version": 3
   },
   "file_extension": ".py",
   "mimetype": "text/x-python",
   "name": "python",
   "nbconvert_exporter": "python",
   "pygments_lexer": "ipython3",
   "version": "3.7.3"
  }
 },
 "nbformat": 4,
 "nbformat_minor": 2
}
