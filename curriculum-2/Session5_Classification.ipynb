{
 "cells": [
  {
   "cell_type": "markdown",
   "metadata": {},
   "source": [
    "# Classification"
   ]
  },
  {
   "cell_type": "markdown",
   "metadata": {},
   "source": [
    "## Logistic Regression"
   ]
  },
  {
   "attachments": {},
   "cell_type": "markdown",
   "metadata": {},
   "source": [
    "The logistic regression typically models the probability of a class given an input. The most basic form of the logistic regression tries to make a binary choice, but also will model uncertainty (i.e. will output something in the range 0 to 1, not just 0 and 1). Here are some simple cases of image data where it may be difficult to distinguish the classes: ![](https://i.pinimg.com/originals/e3/bd/cb/e3bdcb19e8f72bf9392d935ba95092fa.jpg)\n",
    "\n",
    "![](https://prods3.imgix.net/images/articles/2016_03/Facebook-Dog-or-Chicken-Labradoodle-or-fried-chicken-puppy-or-bagel-Karen-Zwack-teeny-biscuit-memes.jpg)"
   ]
  },
  {
   "cell_type": "markdown",
   "metadata": {},
   "source": [
    "One simple form of the model is the following: say that $p=P($image is a dog | image data$)$. Then a linear model could be given by $l = log(\\frac{p}{1-p}) = \\beta_0 + \\beta_1 x_1 + \\cdots$, where the $x$s may be pixels of the image."
   ]
  },
  {
   "cell_type": "markdown",
   "metadata": {},
   "source": [
    "Unlike in the linear regression, we are trying to predict the probability of an outcome. As such, the $\\beta$ coefficients signify the contribution to the probability. While a positive $\\beta$ suggests that the pixel's intensity is related to the image being that of a dog, a negative $\\beta$ means that the pixel is related to the image being a croissant. Their magnitudes are only indicative of their contribution to the likelihood of the outcome. Non-linear models could be used to characterize more complex relationships."
   ]
  },
  {
   "cell_type": "code",
   "execution_count": 1,
   "metadata": {},
   "outputs": [],
   "source": [
    "import pandas as pd, numpy as np"
   ]
  },
  {
   "cell_type": "code",
   "execution_count": 2,
   "metadata": {},
   "outputs": [
    {
     "data": {
      "text/html": [
       "<div>\n",
       "<style scoped>\n",
       "    .dataframe tbody tr th:only-of-type {\n",
       "        vertical-align: middle;\n",
       "    }\n",
       "\n",
       "    .dataframe tbody tr th {\n",
       "        vertical-align: top;\n",
       "    }\n",
       "\n",
       "    .dataframe thead th {\n",
       "        text-align: right;\n",
       "    }\n",
       "</style>\n",
       "<table border=\"1\" class=\"dataframe\">\n",
       "  <thead>\n",
       "    <tr style=\"text-align: right;\">\n",
       "      <th></th>\n",
       "      <th>IV1</th>\n",
       "      <th>IV2</th>\n",
       "      <th>IV3</th>\n",
       "      <th>IV4</th>\n",
       "      <th>IV5</th>\n",
       "      <th>IV6</th>\n",
       "      <th>DV</th>\n",
       "      <th>IV7</th>\n",
       "      <th>IV8</th>\n",
       "      <th>IV9</th>\n",
       "      <th>IV10</th>\n",
       "      <th>IV11</th>\n",
       "      <th>IV12</th>\n",
       "      <th>IV13</th>\n",
       "      <th>IV14</th>\n",
       "      <th>IV15</th>\n",
       "    </tr>\n",
       "  </thead>\n",
       "  <tbody>\n",
       "    <tr>\n",
       "      <th>0</th>\n",
       "      <td>4.0</td>\n",
       "      <td>4.0</td>\n",
       "      <td>4.0</td>\n",
       "      <td>2.0</td>\n",
       "      <td>4.0</td>\n",
       "      <td>4.0</td>\n",
       "      <td>False</td>\n",
       "      <td>4.0</td>\n",
       "      <td>3.0</td>\n",
       "      <td>4.0</td>\n",
       "      <td>4.0</td>\n",
       "      <td>3.0</td>\n",
       "      <td>4.0</td>\n",
       "      <td>4.0</td>\n",
       "      <td>3.0</td>\n",
       "      <td>4.0</td>\n",
       "    </tr>\n",
       "    <tr>\n",
       "      <th>1</th>\n",
       "      <td>5.0</td>\n",
       "      <td>5.0</td>\n",
       "      <td>5.0</td>\n",
       "      <td>5.0</td>\n",
       "      <td>5.0</td>\n",
       "      <td>5.0</td>\n",
       "      <td>True</td>\n",
       "      <td>5.0</td>\n",
       "      <td>5.0</td>\n",
       "      <td>5.0</td>\n",
       "      <td>5.0</td>\n",
       "      <td>5.0</td>\n",
       "      <td>5.0</td>\n",
       "      <td>5.0</td>\n",
       "      <td>5.0</td>\n",
       "      <td>5.0</td>\n",
       "    </tr>\n",
       "    <tr>\n",
       "      <th>2</th>\n",
       "      <td>4.0</td>\n",
       "      <td>4.0</td>\n",
       "      <td>4.0</td>\n",
       "      <td>4.0</td>\n",
       "      <td>5.0</td>\n",
       "      <td>5.0</td>\n",
       "      <td>False</td>\n",
       "      <td>4.0</td>\n",
       "      <td>5.0</td>\n",
       "      <td>4.0</td>\n",
       "      <td>4.0</td>\n",
       "      <td>4.0</td>\n",
       "      <td>4.0</td>\n",
       "      <td>4.0</td>\n",
       "      <td>4.0</td>\n",
       "      <td>5.0</td>\n",
       "    </tr>\n",
       "    <tr>\n",
       "      <th>3</th>\n",
       "      <td>4.0</td>\n",
       "      <td>5.0</td>\n",
       "      <td>3.0</td>\n",
       "      <td>3.0</td>\n",
       "      <td>4.0</td>\n",
       "      <td>4.0</td>\n",
       "      <td>False</td>\n",
       "      <td>4.0</td>\n",
       "      <td>4.0</td>\n",
       "      <td>4.0</td>\n",
       "      <td>4.0</td>\n",
       "      <td>3.0</td>\n",
       "      <td>4.0</td>\n",
       "      <td>4.0</td>\n",
       "      <td>4.0</td>\n",
       "      <td>4.0</td>\n",
       "    </tr>\n",
       "    <tr>\n",
       "      <th>4</th>\n",
       "      <td>4.0</td>\n",
       "      <td>4.0</td>\n",
       "      <td>4.0</td>\n",
       "      <td>2.0</td>\n",
       "      <td>5.0</td>\n",
       "      <td>5.0</td>\n",
       "      <td>True</td>\n",
       "      <td>5.0</td>\n",
       "      <td>3.0</td>\n",
       "      <td>5.0</td>\n",
       "      <td>4.0</td>\n",
       "      <td>3.0</td>\n",
       "      <td>4.0</td>\n",
       "      <td>4.0</td>\n",
       "      <td>4.0</td>\n",
       "      <td>5.0</td>\n",
       "    </tr>\n",
       "    <tr>\n",
       "      <th>5</th>\n",
       "      <td>5.0</td>\n",
       "      <td>5.0</td>\n",
       "      <td>5.0</td>\n",
       "      <td>4.0</td>\n",
       "      <td>5.0</td>\n",
       "      <td>4.0</td>\n",
       "      <td>True</td>\n",
       "      <td>5.0</td>\n",
       "      <td>5.0</td>\n",
       "      <td>5.0</td>\n",
       "      <td>5.0</td>\n",
       "      <td>4.0</td>\n",
       "      <td>4.0</td>\n",
       "      <td>5.0</td>\n",
       "      <td>5.0</td>\n",
       "      <td>4.0</td>\n",
       "    </tr>\n",
       "    <tr>\n",
       "      <th>6</th>\n",
       "      <td>5.0</td>\n",
       "      <td>4.0</td>\n",
       "      <td>3.0</td>\n",
       "      <td>3.0</td>\n",
       "      <td>5.0</td>\n",
       "      <td>4.0</td>\n",
       "      <td>False</td>\n",
       "      <td>5.0</td>\n",
       "      <td>4.0</td>\n",
       "      <td>5.0</td>\n",
       "      <td>5.0</td>\n",
       "      <td>3.0</td>\n",
       "      <td>4.0</td>\n",
       "      <td>4.0</td>\n",
       "      <td>4.0</td>\n",
       "      <td>4.0</td>\n",
       "    </tr>\n",
       "    <tr>\n",
       "      <th>7</th>\n",
       "      <td>4.0</td>\n",
       "      <td>3.0</td>\n",
       "      <td>4.0</td>\n",
       "      <td>3.0</td>\n",
       "      <td>4.0</td>\n",
       "      <td>4.0</td>\n",
       "      <td>False</td>\n",
       "      <td>4.0</td>\n",
       "      <td>3.0</td>\n",
       "      <td>3.0</td>\n",
       "      <td>4.0</td>\n",
       "      <td>4.0</td>\n",
       "      <td>3.0</td>\n",
       "      <td>4.0</td>\n",
       "      <td>4.0</td>\n",
       "      <td>4.0</td>\n",
       "    </tr>\n",
       "    <tr>\n",
       "      <th>8</th>\n",
       "      <td>3.0</td>\n",
       "      <td>3.0</td>\n",
       "      <td>1.0</td>\n",
       "      <td>1.0</td>\n",
       "      <td>3.0</td>\n",
       "      <td>3.0</td>\n",
       "      <td>False</td>\n",
       "      <td>1.0</td>\n",
       "      <td>3.0</td>\n",
       "      <td>4.0</td>\n",
       "      <td>4.0</td>\n",
       "      <td>3.0</td>\n",
       "      <td>1.0</td>\n",
       "      <td>4.0</td>\n",
       "      <td>4.0</td>\n",
       "      <td>3.0</td>\n",
       "    </tr>\n",
       "    <tr>\n",
       "      <th>9</th>\n",
       "      <td>4.0</td>\n",
       "      <td>4.0</td>\n",
       "      <td>4.0</td>\n",
       "      <td>3.0</td>\n",
       "      <td>5.0</td>\n",
       "      <td>5.0</td>\n",
       "      <td>True</td>\n",
       "      <td>4.0</td>\n",
       "      <td>4.0</td>\n",
       "      <td>4.0</td>\n",
       "      <td>4.0</td>\n",
       "      <td>4.0</td>\n",
       "      <td>4.0</td>\n",
       "      <td>4.0</td>\n",
       "      <td>4.0</td>\n",
       "      <td>5.0</td>\n",
       "    </tr>\n",
       "  </tbody>\n",
       "</table>\n",
       "</div>"
      ],
      "text/plain": [
       "   IV1  IV2  IV3  IV4  IV5  IV6     DV  IV7  IV8  IV9  IV10  IV11  IV12  IV13  \\\n",
       "0  4.0  4.0  4.0  2.0  4.0  4.0  False  4.0  3.0  4.0   4.0   3.0   4.0   4.0   \n",
       "1  5.0  5.0  5.0  5.0  5.0  5.0   True  5.0  5.0  5.0   5.0   5.0   5.0   5.0   \n",
       "2  4.0  4.0  4.0  4.0  5.0  5.0  False  4.0  5.0  4.0   4.0   4.0   4.0   4.0   \n",
       "3  4.0  5.0  3.0  3.0  4.0  4.0  False  4.0  4.0  4.0   4.0   3.0   4.0   4.0   \n",
       "4  4.0  4.0  4.0  2.0  5.0  5.0   True  5.0  3.0  5.0   4.0   3.0   4.0   4.0   \n",
       "5  5.0  5.0  5.0  4.0  5.0  4.0   True  5.0  5.0  5.0   5.0   4.0   4.0   5.0   \n",
       "6  5.0  4.0  3.0  3.0  5.0  4.0  False  5.0  4.0  5.0   5.0   3.0   4.0   4.0   \n",
       "7  4.0  3.0  4.0  3.0  4.0  4.0  False  4.0  3.0  3.0   4.0   4.0   3.0   4.0   \n",
       "8  3.0  3.0  1.0  1.0  3.0  3.0  False  1.0  3.0  4.0   4.0   3.0   1.0   4.0   \n",
       "9  4.0  4.0  4.0  3.0  5.0  5.0   True  4.0  4.0  4.0   4.0   4.0   4.0   4.0   \n",
       "\n",
       "   IV14  IV15  \n",
       "0   3.0   4.0  \n",
       "1   5.0   5.0  \n",
       "2   4.0   5.0  \n",
       "3   4.0   4.0  \n",
       "4   4.0   5.0  \n",
       "5   5.0   4.0  \n",
       "6   4.0   4.0  \n",
       "7   4.0   4.0  \n",
       "8   4.0   3.0  \n",
       "9   4.0   5.0  "
      ]
     },
     "execution_count": 2,
     "metadata": {},
     "output_type": "execute_result"
    }
   ],
   "source": [
    "df = pd.read_csv(\"data.csv\")\n",
    "df = df.dropna()\n",
    "df['DV'] = (df['DV'] > 3).astype(np.bool_) # 4: 1 | 1,2,3: 0\n",
    "df = df.drop('ID', 1)\n",
    "df.head(10)"
   ]
  },
  {
   "cell_type": "code",
   "execution_count": 3,
   "metadata": {},
   "outputs": [],
   "source": [
    "y = df.pop('DV')\n",
    "X = df"
   ]
  },
  {
   "cell_type": "code",
   "execution_count": 4,
   "metadata": {},
   "outputs": [
    {
     "name": "stdout",
     "output_type": "stream",
     "text": [
      "(441, 15)\n",
      "(147, 15)\n"
     ]
    }
   ],
   "source": [
    "from sklearn.model_selection import train_test_split\n",
    "\n",
    "X_train, X_test, y_train, y_test = train_test_split(X, y, random_state=0)\n",
    "print(X_train.shape)\n",
    "print(X_test.shape)"
   ]
  },
  {
   "cell_type": "code",
   "execution_count": 5,
   "metadata": {
    "scrolled": false
   },
   "outputs": [
    {
     "name": "stdout",
     "output_type": "stream",
     "text": [
      "Classes: [False  True]\n",
      "[[0.7805515  0.2194485 ]\n",
      " [0.11279386 0.88720614]\n",
      " [0.88625328 0.11374672]\n",
      " [0.95075765 0.04924235]\n",
      " [0.33190203 0.66809797]]\n",
      ".\n",
      ".\n",
      ".\n",
      "\n",
      "Score for test data: 79.59%\n"
     ]
    }
   ],
   "source": [
    "from sklearn.linear_model import LogisticRegression\n",
    "\n",
    "clf = LogisticRegression(random_state=0, solver='lbfgs')\n",
    "clf.fit(X_train, y_train)\n",
    "\n",
    "def output(model, _X_test, _y_test):\n",
    "    print('Classes: {}'.format(model.classes_))\n",
    "    print(model.predict_proba(_X_test)[:5,])\n",
    "    print(\".\\n\"*3)\n",
    "    print('Score for test data: {:.2%}'.format(model.score(_X_test, _y_test)))\n",
    "    \n",
    "output(clf, X_test, y_test)"
   ]
  },
  {
   "cell_type": "code",
   "execution_count": 6,
   "metadata": {},
   "outputs": [
    {
     "name": "stdout",
     "output_type": "stream",
     "text": [
      "(1, 15)\n",
      "[[-0.07860011  0.1615707   0.03051194  0.12129066  0.08219454  0.47526988\n",
      "   0.87527162  0.85679054  0.72459541  0.27177606  0.01464484  0.56554802\n",
      "  -0.21152324 -0.05474793 -0.12654745]]\n",
      "[-15.26115359]\n"
     ]
    }
   ],
   "source": [
    "print(clf.coef_.shape)\n",
    "print(clf.coef_) # from doc: coef_ corresponds to outcome 1 (True)\n",
    "print(clf.intercept_)"
   ]
  },
  {
   "cell_type": "markdown",
   "metadata": {},
   "source": [
    "## Decision Trees"
   ]
  },
  {
   "cell_type": "markdown",
   "metadata": {},
   "source": [
    "A decision tree is a structured way to make decisions by assigning probabilities to courses of action based on the outcomes of certain events."
   ]
  },
  {
   "cell_type": "markdown",
   "metadata": {},
   "source": [
    "We can imagine that every time we want to make a decision, several options are available to us. \n",
    "\n",
    "![](https://i1.wp.com/www.samtalksml.net/wp-content/uploads/2017/05/image_dt1-1.png?resize=450%2C368&ssl=1)\n",
    "\n",
    "![](http://www.prognoz.com/blog/wp-content/uploads/2016/06/tree.png)\n",
    "\n",
    "![](https://victorzhou.com/media/random-forest-post/decision-tree2-root.svg)"
   ]
  },
  {
   "cell_type": "markdown",
   "metadata": {},
   "source": [
    "## Random Forest"
   ]
  },
  {
   "cell_type": "markdown",
   "metadata": {},
   "source": [
    "The problem with decision trees is their tendency to overfit. The fact that apples and grapes appear as leaf nodes multiple times is an example of this problem. For small decision trees, this harms interpretibility. For classification tasks, their generality is harmed when new  data is introduced."
   ]
  },
  {
   "cell_type": "markdown",
   "metadata": {},
   "source": [
    "Random Forest is a method of overcoming the overfitting problem. It creates classification trees which each only see a small portion of the training set, and may even only see a subset of its dimensions. By combining these trees, the variance is reduced significantly while slightly increasing the bias."
   ]
  },
  {
   "cell_type": "markdown",
   "metadata": {},
   "source": [
    "![](https://miro.medium.com/max/592/1*i0o8mjFfCn-uD79-F1Cqkw.png)"
   ]
  },
  {
   "cell_type": "markdown",
   "metadata": {},
   "source": [
    "Random forest will only give importance of the features for classification, but has no analogy to the sign of the beta coefficients. Small magnitude importance means that features have little impact. These importance scores are also invariant to feature scaling."
   ]
  },
  {
   "cell_type": "code",
   "execution_count": 7,
   "metadata": {},
   "outputs": [
    {
     "name": "stdout",
     "output_type": "stream",
     "text": [
      "Classes: [False  True]\n",
      "[[0.91       0.09      ]\n",
      " [0.05       0.95      ]\n",
      " [0.84       0.16      ]\n",
      " [1.         0.        ]\n",
      " [0.30101371 0.69898629]]\n",
      ".\n",
      ".\n",
      ".\n",
      "\n",
      "Score for test data: 78.23%\n"
     ]
    }
   ],
   "source": [
    "from sklearn.ensemble import RandomForestClassifier\n",
    "\n",
    "rfc = RandomForestClassifier(n_estimators=100, random_state=0)\n",
    "rfc.fit(X_train, y_train)\n",
    "\n",
    "output(rfc, X_test, y_test)"
   ]
  },
  {
   "cell_type": "code",
   "execution_count": null,
   "metadata": {},
   "outputs": [],
   "source": []
  }
 ],
 "metadata": {
  "kernelspec": {
   "display_name": "Python 3",
   "language": "python",
   "name": "python3"
  },
  "language_info": {
   "codemirror_mode": {
    "name": "ipython",
    "version": 3
   },
   "file_extension": ".py",
   "mimetype": "text/x-python",
   "name": "python",
   "nbconvert_exporter": "python",
   "pygments_lexer": "ipython3",
   "version": "3.7.3"
  }
 },
 "nbformat": 4,
 "nbformat_minor": 2
}
